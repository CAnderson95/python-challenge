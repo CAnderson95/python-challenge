{
 "cells": [
  {
   "cell_type": "code",
   "execution_count": 1,
   "metadata": {},
   "outputs": [],
   "source": [
    "import os\n",
    "import csv\n",
    "import pandas as pd\n",
    "from collections import Counter "
   ]
  },
  {
   "cell_type": "code",
   "execution_count": 2,
   "metadata": {},
   "outputs": [],
   "source": [
    "full_path = os.path.join(\"Resources\",\"election_data.csv\")"
   ]
  },
  {
   "cell_type": "code",
   "execution_count": 3,
   "metadata": {},
   "outputs": [],
   "source": [
    "reader = csv.reader(full_path)"
   ]
  },
  {
   "cell_type": "code",
   "execution_count": 4,
   "metadata": {},
   "outputs": [
    {
     "output_type": "execute_result",
     "data": {
      "text/plain": "   Voter ID County Candidate\n0  12864552  Marsh      Khan\n1  17444633  Marsh    Correy\n2  19330107  Marsh      Khan\n3  19865775  Queen      Khan\n4  11927875  Marsh      Khan",
      "text/html": "<div>\n<style scoped>\n    .dataframe tbody tr th:only-of-type {\n        vertical-align: middle;\n    }\n\n    .dataframe tbody tr th {\n        vertical-align: top;\n    }\n\n    .dataframe thead th {\n        text-align: right;\n    }\n</style>\n<table border=\"1\" class=\"dataframe\">\n  <thead>\n    <tr style=\"text-align: right;\">\n      <th></th>\n      <th>Voter ID</th>\n      <th>County</th>\n      <th>Candidate</th>\n    </tr>\n  </thead>\n  <tbody>\n    <tr>\n      <th>0</th>\n      <td>12864552</td>\n      <td>Marsh</td>\n      <td>Khan</td>\n    </tr>\n    <tr>\n      <th>1</th>\n      <td>17444633</td>\n      <td>Marsh</td>\n      <td>Correy</td>\n    </tr>\n    <tr>\n      <th>2</th>\n      <td>19330107</td>\n      <td>Marsh</td>\n      <td>Khan</td>\n    </tr>\n    <tr>\n      <th>3</th>\n      <td>19865775</td>\n      <td>Queen</td>\n      <td>Khan</td>\n    </tr>\n    <tr>\n      <th>4</th>\n      <td>11927875</td>\n      <td>Marsh</td>\n      <td>Khan</td>\n    </tr>\n  </tbody>\n</table>\n</div>"
     },
     "metadata": {},
     "execution_count": 4
    }
   ],
   "source": [
    "data_file_df = pd.read_csv(full_path)\n",
    "data_file_df.head()"
   ]
  },
  {
   "cell_type": "code",
   "execution_count": 5,
   "metadata": {
    "tags": []
   },
   "outputs": [
    {
     "output_type": "stream",
     "name": "stdout",
     "text": "3521002\n"
    }
   ],
   "source": [
    "num_rows = 0\n",
    "\n",
    "for row in open(\"Resources/election_data.csv\"):\n",
    "    num_rows += 1\n",
    "\n",
    "print((num_rows))"
   ]
  },
  {
   "cell_type": "code",
   "execution_count": 6,
   "metadata": {},
   "outputs": [
    {
     "output_type": "execute_result",
     "data": {
      "text/plain": "int"
     },
     "metadata": {},
     "execution_count": 6
    }
   ],
   "source": [
    "type(num_rows)"
   ]
  },
  {
   "cell_type": "code",
   "execution_count": 7,
   "metadata": {
    "tags": []
   },
   "outputs": [
    {
     "output_type": "stream",
     "name": "stdout",
     "text": "['Khan' 'Correy' 'Li' \"O'Tooley\"]\n"
    }
   ],
   "source": [
    "print(data_file_df[\"Candidate\"].unique(), sep = \"\\n\")"
   ]
  },
  {
   "cell_type": "code",
   "execution_count": 8,
   "metadata": {},
   "outputs": [
    {
     "output_type": "execute_result",
     "data": {
      "text/plain": "Khan        2218231\nCorrey       704200\nLi           492940\nO'Tooley     105630\nName: Candidate, dtype: int64"
     },
     "metadata": {},
     "execution_count": 8
    }
   ],
   "source": [
    "data_file_df[\"Candidate\"].value_counts()"
   ]
  },
  {
   "cell_type": "code",
   "execution_count": 9,
   "metadata": {
    "tags": []
   },
   "outputs": [
    {
     "output_type": "stream",
     "name": "stdout",
     "text": "2218231\n"
    }
   ],
   "source": [
    "result_Khan = data_file_df[data_file_df[\"Candidate\"] == \"Khan\"]\n",
    "print((len(result_Khan)))\n",
    "result_Khan = 2218231"
   ]
  },
  {
   "cell_type": "code",
   "execution_count": 10,
   "metadata": {
    "tags": []
   },
   "outputs": [
    {
     "output_type": "stream",
     "name": "stdout",
     "text": "63.0\n"
    }
   ],
   "source": [
    "Khan_vote_pct = round(result_Khan/num_rows*100, 2)\n",
    "print(Khan_vote_pct)"
   ]
  },
  {
   "cell_type": "code",
   "execution_count": 11,
   "metadata": {
    "tags": []
   },
   "outputs": [
    {
     "output_type": "stream",
     "name": "stdout",
     "text": "704200\n"
    }
   ],
   "source": [
    "result_Correy = data_file_df[data_file_df[\"Candidate\"] == \"Correy\"]\n",
    "print(len(result_Correy))\n",
    "result_Correy = 704200"
   ]
  },
  {
   "cell_type": "code",
   "execution_count": 12,
   "metadata": {},
   "outputs": [
    {
     "output_type": "execute_result",
     "data": {
      "text/plain": "int"
     },
     "metadata": {},
     "execution_count": 12
    }
   ],
   "source": [
    "type(result_Correy)"
   ]
  },
  {
   "cell_type": "code",
   "execution_count": 56,
   "metadata": {},
   "outputs": [
    {
     "name": "stdout",
     "output_type": "stream",
     "text": [
      "20.0\n"
     ]
    }
   ],
   "source": [
    "Correy_vote_pct = round(result_Correy/num_rows*100, 2)\n",
    "print(Correy_vote_pct)"
   ]
  },
  {
   "cell_type": "code",
   "execution_count": 13,
   "metadata": {
    "tags": []
   },
   "outputs": [
    {
     "output_type": "stream",
     "name": "stdout",
     "text": "492940\n"
    }
   ],
   "source": [
    "result_Li = data_file_df[data_file_df[\"Candidate\"] == \"Li\"]\n",
    "print((len(result_Li)))\n",
    "result_Li = 492940"
   ]
  },
  {
   "cell_type": "code",
   "execution_count": 14,
   "metadata": {
    "tags": []
   },
   "outputs": [
    {
     "output_type": "stream",
     "name": "stdout",
     "text": "14.0\n"
    }
   ],
   "source": [
    "Li_vote_pct = round(result_Li/num_rows*100, 2)\n",
    "print(Li_vote_pct)"
   ]
  },
  {
   "cell_type": "code",
   "execution_count": 15,
   "metadata": {
    "tags": []
   },
   "outputs": [
    {
     "output_type": "stream",
     "name": "stdout",
     "text": "105630\n"
    }
   ],
   "source": [
    "result_OTooley = data_file_df[data_file_df[\"Candidate\"] == \"O'Tooley\"]\n",
    "print((len(result_OTooley)))\n",
    "result_OTooley = 105630"
   ]
  },
  {
   "cell_type": "code",
   "execution_count": 16,
   "metadata": {
    "tags": []
   },
   "outputs": [
    {
     "output_type": "stream",
     "name": "stdout",
     "text": "3.0\n"
    }
   ],
   "source": [
    "OTooley_vote_pct = round(result_OTooley/num_rows*100, 2)\n",
    "print(OTooley_vote_pct)"
   ]
  },
  {
   "cell_type": "code",
   "execution_count": 17,
   "metadata": {
    "tags": []
   },
   "outputs": [
    {
     "output_type": "stream",
     "name": "stdout",
     "text": "Most Voted Candidate: Khan\nKahn\n"
    }
   ],
   "source": [
    "with open(full_path, 'r') as f:\n",
    "    column = (row[2] for row in csv.reader(f))\n",
    "    print(\"Most Voted Candidate: {0}\".format(Counter(column).most_common()[0][0]))\n",
    "    Election_Winner = \"Kahn\"\n",
    "    print(Election_Winner)\n",
    "    "
   ]
  },
  {
   "cell_type": "code",
   "execution_count": 89,
   "metadata": {},
   "outputs": [
    {
     "name": "stdout",
     "output_type": "stream",
     "text": [
      "This is the output of the data from our Election sheet.\n"
     ]
    }
   ],
   "source": [
    "import sys\n",
    "\n",
    "print('This is the output of the data from our Election sheet.')\n",
    "\n",
    "original_stdout = sys.stdout \n",
    "with open('Assessment/Analytics.txt', 'w') as f:\n",
    "    sys.stdout = f \n",
    "    print(\"Election Results\")\n",
    "    print(\"----------------------------\")\n",
    "    print(\"Total Votes:\", num_rows)\n",
    "    print(\"----------------------------\")\n",
    "    print(\"Kahn:\",\"%\",Khan_vote_pct,'(',result_Khan,')')\n",
    "    print('Correy:','%',Correy_vote_pct,'(',result_Correy,')')\n",
    "    print('Li:','%',Li_vote_pct,'(',result_Li,')')\n",
    "    print(\"O'Tooley:\",'%',OTooley_vote_pct,'(',result_OTooley,')')\n",
    "    print('----------------------------') \n",
    "    print('The Winner of this Election by Popular Vote is:', Election_Winner)     \n",
    "    sys.stdout = original_stdout "
   ]
  },
  {
   "cell_type": "code",
   "execution_count": 70,
   "metadata": {},
   "outputs": [
    {
     "name": "stdout",
     "output_type": "stream",
     "text": [
      "2218231\n"
     ]
    }
   ],
   "source": []
  },
  {
   "cell_type": "code",
   "execution_count": 71,
   "metadata": {},
   "outputs": [
    {
     "name": "stdout",
     "output_type": "stream",
     "text": [
      "2218231\n"
     ]
    }
   ],
   "source": []
  },
  {
   "cell_type": "code",
   "execution_count": 72,
   "metadata": {},
   "outputs": [
    {
     "name": "stdout",
     "output_type": "stream",
     "text": [
      "2218231\n"
     ]
    }
   ],
   "source": []
  },
  {
   "cell_type": "code",
   "execution_count": null,
   "metadata": {},
   "outputs": [],
   "source": []
  }
 ],
 "metadata": {
  "kernelspec": {
   "display_name": "Python 3.7.6 64-bit (conda)",
   "language": "python",
   "name": "python37664bitcondafa00bd6b44a14f0ab54779ea5e8fc92e"
  },
  "language_info": {
   "codemirror_mode": {
    "name": "ipython",
    "version": 3
   },
   "file_extension": ".py",
   "mimetype": "text/x-python",
   "name": "python",
   "nbconvert_exporter": "python",
   "pygments_lexer": "ipython3",
   "version": "3.7.6-final"
  }
 },
 "nbformat": 4,
 "nbformat_minor": 4
}